{
  "nbformat": 4,
  "nbformat_minor": 0,
  "metadata": {
    "colab": {
      "name": "Copy of PythonAssigment#1(JawanPakistan).ipynb",
      "provenance": []
    },
    "kernelspec": {
      "name": "python3",
      "display_name": "Python 3"
    },
    "language_info": {
      "name": "python"
    }
  },
  "cells": [
    {
      "cell_type": "markdown",
      "source": [
        "Assigment#1 Python Programming by Jawan Pakistan"
      ],
      "metadata": {
        "id": "7UmWBfvf6r83"
      }
    },
    {
      "cell_type": "markdown",
      "source": [
        "1. Python program to print the following string in specific format."
      ],
      "metadata": {
        "id": "bfxweJUD92_F"
      }
    },
    {
      "cell_type": "code",
      "source": [
        "#Twinkle, twikle, little star,\n",
        "        #How i wonder what you are!\n",
        "              #Up above the world so high,\n",
        "              #Like a diamond in the sky.\n",
        "#Twinkle, twikle, little star,\n",
        "        #How i wonder what you are!\n",
        "print(\"Twinkle, twikle, little star, \\n\\tHow i wonder what you are!\\n\\t\\tUp above the world so high,\\n\\t\\tLike a diamond in the sky.\\nTwinkle, twikle, little star,\\n\\tHow i wonder what you are!\")"
      ],
      "metadata": {
        "id": "8CKsmCyP92L3",
        "colab": {
          "base_uri": "https://localhost:8080/"
        },
        "outputId": "5504942a-c5db-459b-8f9d-44f8ac065e08"
      },
      "execution_count": null,
      "outputs": [
        {
          "output_type": "stream",
          "name": "stdout",
          "text": [
            "Twinkle, twikle, little star, \n",
            "\tHow i wonder what you are!\n",
            "\t\tUp above the world so high,\n",
            "\t\tLike a diamond in the sky.\n",
            "Twinkle, twikle, little star,\n",
            "\tHow i wonder what you are!\n"
          ]
        }
      ]
    },
    {
      "cell_type": "markdown",
      "source": [
        "2. Python Program to get the Version:-"
      ],
      "metadata": {
        "id": "3LWpjqXL6lD9"
      }
    },
    {
      "cell_type": "code",
      "source": [
        "print(\"Python Version : \" + str(sys.version))"
      ],
      "metadata": {
        "colab": {
          "base_uri": "https://localhost:8080/"
        },
        "id": "A9KwDSsr51LB",
        "outputId": "f4196fa6-dad0-4e52-80a7-38266a948219"
      },
      "execution_count": null,
      "outputs": [
        {
          "output_type": "stream",
          "name": "stdout",
          "text": [
            "Python Version : 3.7.12 (default, Sep 10 2021, 00:21:48) \n",
            "[GCC 7.5.0]\n"
          ]
        }
      ]
    },
    {
      "cell_type": "markdown",
      "source": [
        "3. Python Program to get the Version:-"
      ],
      "metadata": {
        "id": "10juhBfj7FnS"
      }
    },
    {
      "cell_type": "code",
      "source": [
        "now = datetime.datetime.now()\n",
        "print(\"Current Date and time is:\")\n",
        "print(now.strftime(\"%y-%m-%d %H:%M:%S\"))"
      ],
      "metadata": {
        "colab": {
          "base_uri": "https://localhost:8080/"
        },
        "id": "fH8SqQbh7VEg",
        "outputId": "8d01336c-b62b-476f-b85a-85aafcf1dc18"
      },
      "execution_count": null,
      "outputs": [
        {
          "output_type": "stream",
          "name": "stdout",
          "text": [
            "Current Date and time is:\n",
            "22-01-01 15:26:42\n"
          ]
        }
      ]
    },
    {
      "cell_type": "markdown",
      "source": [
        "4. Program which accepts the radius of a circle from the user and compute the area:-"
      ],
      "metadata": {
        "id": "y8H5x-689aNJ"
      }
    },
    {
      "cell_type": "code",
      "source": [
        "import math\n",
        "radius = float(input(\"Enter the Radius of the Circle : \"))\n",
        "\n",
        "area = math.pi * radius * radius\n",
        "\n",
        "print(\"Area of the circle is : {0}\" .format(area))\n"
      ],
      "metadata": {
        "colab": {
          "base_uri": "https://localhost:8080/"
        },
        "id": "_B-C_jH87vHQ",
        "outputId": "52d7ba9c-76f4-464a-ec6f-be48898645a4"
      },
      "execution_count": null,
      "outputs": [
        {
          "output_type": "stream",
          "name": "stdout",
          "text": [
            "Enter the Radius of the Circle : 10\n",
            "Area of the circle is : 314.1592653589793\n"
          ]
        }
      ]
    },
    {
      "cell_type": "markdown",
      "source": [
        "5. Python Program which accepts the user's first and last name and print them in reverse order with a space between them."
      ],
      "metadata": {
        "id": "RLNFYtRkAXpR"
      }
    },
    {
      "cell_type": "code",
      "source": [
        "firstName = input(\"Enter Your First Name: \")\n",
        "LastName = input(\"Enter Your Last Name: \")\n",
        "output = print(\"Hello:\" + LastName + \" \" + firstName)"
      ],
      "metadata": {
        "colab": {
          "base_uri": "https://localhost:8080/"
        },
        "id": "6GH1HzgfAPpw",
        "outputId": "3e9cb22e-a951-49cb-c591-7b6a8862d982"
      },
      "execution_count": null,
      "outputs": [
        {
          "output_type": "stream",
          "name": "stdout",
          "text": [
            "Enter Your First Name: zulf\n",
            "Enter Your Last Name: ali\n",
            "Hello:ali zulf\n"
          ]
        }
      ]
    },
    {
      "cell_type": "markdown",
      "source": [
        "6. Pythom Program which takes two inputs from user and print them addition"
      ],
      "metadata": {
        "id": "ZSAT02KXM6Ur"
      }
    },
    {
      "cell_type": "code",
      "source": [
        "num1 = int(input(\"Enter Number1 : \"))\n",
        "num2 = int(input(\"Enter Number2 : \"))\n",
        "\n",
        "result = num1 + num2\n",
        "print(\"{0} + {1} = {2}\".format(num1,num2,result))\n"
      ],
      "metadata": {
        "id": "bPOWoZEzB15Q",
        "colab": {
          "base_uri": "https://localhost:8080/"
        },
        "outputId": "ceacc37e-913f-4dbb-e44a-089ddffd648c"
      },
      "execution_count": null,
      "outputs": [
        {
          "output_type": "stream",
          "name": "stdout",
          "text": [
            "Enter Number1 : 10\n",
            "Enter Number2 : 20\n",
            "10 + 20 = 30\n"
          ]
        }
      ]
    },
    {
      "cell_type": "code",
      "source": [
        ""
      ],
      "metadata": {
        "id": "i-HFd3kDPvS6"
      },
      "execution_count": null,
      "outputs": []
    }
  ]
}